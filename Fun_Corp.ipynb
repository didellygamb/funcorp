{
 "cells": [
  {
   "cell_type": "markdown",
   "id": "04420170",
   "metadata": {},
   "source": [
    "##                   <font color='blue'>        Estudo de Viabilidade de jogos Online na Fun Corp  🎮 </font> \n"
   ]
  },
  {
   "cell_type": "markdown",
   "id": "252a0d3a",
   "metadata": {},
   "source": [
    "Este relatório contém o código usado para o estudo de viabilidade de jogos online na Fun Corp, foram criados módulos em um arquio complementar para que o código seja apresentado de forma mais clara e menos complexa. Os módulos foram criados separadamente para melhor manutenção do código posteriormente."
   ]
  },
  {
   "cell_type": "markdown",
   "id": "28cdb5b6",
   "metadata": {},
   "source": [
    "### Leitura do Arquivo "
   ]
  },
  {
   "cell_type": "code",
   "execution_count": 1,
   "id": "6563c0c0",
   "metadata": {},
   "outputs": [
    {
     "name": "stdout",
     "output_type": "stream",
     "text": [
      "Cabeçalhos: ['AppID', 'Name', 'Release date', 'Estimated owners', 'Peak CCU', 'Required age', 'Price', 'DLC count', 'About the game', 'Supported languages', 'Full audio languages', 'Reviews', 'Header image', 'Website', 'Support url', 'Support email', 'Windows', 'Mac', 'Linux', 'Metacritic score', 'Metacritic url', 'User score', 'Positive', 'Negative', 'Score rank', 'Achievements', 'Recommendations', 'Notes', 'Average playtime forever', 'Average playtime two weeks', 'Median playtime forever', 'Median playtime two weeks', 'Developers', 'Publishers', 'Categories', 'Genres', 'Tags', 'Screenshots', 'Movies']\n"
     ]
    }
   ],
   "source": [
    "# Importando do módulo csv_reader a classe CSVLoader.\n",
    "from csv_reader import CSVLoader\n",
    "\n",
    "# Criando uma instância da classe CSVLoader, passando o caminho do arquivo CSV.\n",
    "loader = CSVLoader('steam_games.csv')\n",
    "\n",
    "# Chamando o método load_csv para carregar o arquivo CSV.\n",
    "headers, data = loader.load_csv()\n",
    "\n",
    "# Exibindo o cabeçalho como teste.\n",
    "print(\"Cabeçalhos:\", headers)"
   ]
  },
  {
   "cell_type": "markdown",
   "id": "22c057f1",
   "metadata": {},
   "source": [
    "### Transformação em um dicionário"
   ]
  },
  {
   "cell_type": "code",
   "execution_count": 2,
   "id": "4418c5a6",
   "metadata": {},
   "outputs": [
    {
     "name": "stdout",
     "output_type": "stream",
     "text": [
      "AppID: 1967950\n",
      "Name: Moi Mei: Hidden Objects\n",
      "Release date: May 18, 2022\n",
      "Estimated owners: 0 - 20000\n",
      "Peak CCU: 1\n",
      "Required age: 0\n",
      "Price: 9.99\n",
      "DLC count: 0\n",
      "About the game: The honeymoon in May went clearly not the way a self-respecting honeymoon should go. As soon as they arrived on the paradise island lost in the Caribbean, Mae and Jason immediately got into serious trouble — the local voodoo priestess Mama Agatha fell in love with Jason. The sorceress, realizing that she would not be able to recapture her husband from Mae so easily, resorted to the help of witchcraft and turned Jason into a natural nzambi! And now the Snake, in order to save his beloved, will have to master all the subtleties of witchcraft, enlist the support of cunning and greedy Voodoo spirits and challenge the insidious Mother Agatha! Do not pass by, we have here: a strong and determined heroine a whole family of spirits to be appeased magical atmosphere ritual drums\n",
      "Supported languages: ['English', 'Russian']\n",
      "Full audio languages: []\n",
      "Reviews: \n",
      "Header image: https://cdn.akamai.steamstatic.com/steam/apps/1967950/header.jpg?t=1652893256\n",
      "Website: https://www.facebook.com/DnovelGames/\n",
      "Support url: https://www.facebook.com/DnovelGames/\n",
      "Support email: press@dnovel.com\n",
      "Windows: True\n",
      "Mac: False\n",
      "Linux: False\n",
      "Metacritic score: 0\n",
      "Metacritic url: \n",
      "User score: 0\n",
      "Positive: 14\n",
      "Negative: 0\n",
      "Score rank: \n",
      "Achievements: 0\n",
      "Recommendations: 0\n",
      "Notes: Among the items to search for in the game there are knives, skulls and at least one zombie!\n",
      "Average playtime forever: 0\n",
      "Average playtime two weeks: 0\n",
      "Median playtime forever: 0\n",
      "Median playtime two weeks: 0\n",
      "Developers: Dnovel\n",
      "Publishers: Studio2760\n",
      "Categories: Single-player\n",
      "Genres: Adventure,Indie,Early Access\n",
      "Tags: Adventure,Point & Click,Visual Novel,Clicker,Hidden Object,Cute,Stylized,Colorful,Early Access,Atmospheric,Indie,Linear,Singleplayer,Music\n",
      "Screenshots: https://cdn.akamai.steamstatic.com/steam/apps/1967950/ss_0421daa32ec78487f1c2cdf6ca1e75ad06372636.1920x1080.jpg?t=1652893256,https://cdn.akamai.steamstatic.com/steam/apps/1967950/ss_9cd693c37b40e144eb577e56a95d92cebc2d5b52.1920x1080.jpg?t=1652893256,https://cdn.akamai.steamstatic.com/steam/apps/1967950/ss_0c427f98de4fe2eb0638f006aee3c864a46d8a12.1920x1080.jpg?t=1652893256,https://cdn.akamai.steamstatic.com/steam/apps/1967950/ss_37a315f003839fde6abe9ce203a331045bf912ef.1920x1080.jpg?t=1652893256,https://cdn.akamai.steamstatic.com/steam/apps/1967950/ss_e0428e1676320e5b1e55d0b9f7ec3ff71da944a0.1920x1080.jpg?t=1652893256,https://cdn.akamai.steamstatic.com/steam/apps/1967950/ss_b263c98f235220c0930fdf408efacadb30477ac2.1920x1080.jpg?t=1652893256,https://cdn.akamai.steamstatic.com/steam/apps/1967950/ss_def5d1bcc5e6955bad02fc94b55b86ab7c57b15d.1920x1080.jpg?t=1652893256\n",
      "Movies: http://cdn.akamai.steamstatic.com/steam/apps/256887051/movie_max.mp4?t=1652822884\n",
      "---\n",
      "AppID: 812580\n",
      "Name: Chop It\n",
      "Release date: Sep 17, 2018\n",
      "Estimated owners: 0 - 20000\n",
      "Peak CCU: 0\n",
      "Required age: 0\n",
      "Price: 9.99\n",
      "DLC count: 0\n",
      "About the game: Chop It is a VR rhythm game about karate and friendship. Chop the boards. Punch the cinder blocks. Use that body to get into the rhythm and karate everything into smithereens. Turn quick. Gaze in awe as the Sensei launches himself around the Pagoda raining building materials on your head. Included are 8 playable songs custom written for Chop It by Strange Handle AV. Import your own content and map songs manually, procedurally, or a mix of the two in the VR Mapping Station. One of the things that makes Chop It unique from other VR rhythm games is the use of true roomscale where the Sensei jumps and flies around the environment while throwing items at you that land to the beat. Check out Map It - Map songs for Chop It in your browser! Join us on Discord! Features: 8 playable songs custom written for Chop It by Strange Handle AV Built-in mapping tools and algorithms for importing your own songs in Virtual Reality Map It: An online mapping tool that lets you tap to the beat or convert from MIDI and more Local high scores and global leaderboards 360 Degree Rhythm Game Madness Customize beatmaps so that the Sensei jumps when and where you want, or enable Random Sensei Movement to keep beatmaps fresh every time you play them Punchin' and Chopin' and Swipin' and Slicin' - Multiple item types, locations, rotations, and patterns to keep you on your virtual toes Disco Mode! Customizeable hand colors, wraps, and orientations Accessibility settings for players of all heights Sensei with a sweet afro Becoming karate Available for Arcades on SpringboardVR\n",
      "Supported languages: ['English']\n",
      "Full audio languages: ['English']\n",
      "Reviews: \n",
      "Header image: https://cdn.akamai.steamstatic.com/steam/apps/812580/header.jpg?t=1551151256\n",
      "Website: http://www.giantscam.com\n",
      "Support url: https://www.twitter.com/giantscam\n",
      "Support email: scambot@giantscam.com\n",
      "Windows: True\n",
      "Mac: False\n",
      "Linux: False\n",
      "Metacritic score: 0\n",
      "Metacritic url: \n",
      "User score: 0\n",
      "Positive: 14\n",
      "Negative: 3\n",
      "Score rank: \n",
      "Achievements: 0\n",
      "Recommendations: 0\n",
      "Notes: \n",
      "Average playtime forever: 0\n",
      "Average playtime two weeks: 0\n",
      "Median playtime forever: 0\n",
      "Median playtime two weeks: 0\n",
      "Developers: Giant Scam Industries\n",
      "Publishers: Giant Scam Industries\n",
      "Categories: Single-player,Stats,Steam Leaderboards,Includes level editor\n",
      "Genres: Casual,Indie\n",
      "Tags: Indie,Casual,VR,Rhythm,Martial Arts,VR Only\n",
      "Screenshots: https://cdn.akamai.steamstatic.com/steam/apps/812580/ss_d8241f4f671837f86e868da9a4a91a7f558a2622.1920x1080.jpg?t=1551151256,https://cdn.akamai.steamstatic.com/steam/apps/812580/ss_b2e154decc6f1d5aa3f315cfd5959607df83bbe0.1920x1080.jpg?t=1551151256,https://cdn.akamai.steamstatic.com/steam/apps/812580/ss_32d3e3a501efba257082e5e714b43132d7a7a9ab.1920x1080.jpg?t=1551151256,https://cdn.akamai.steamstatic.com/steam/apps/812580/ss_a785fef14940c98da0a1adfdaa51d739043aede9.1920x1080.jpg?t=1551151256,https://cdn.akamai.steamstatic.com/steam/apps/812580/ss_2e57a459813bea6b242e4e7f63a09341d1a693f9.1920x1080.jpg?t=1551151256,https://cdn.akamai.steamstatic.com/steam/apps/812580/ss_9db9684ee094faa1afb09ab07036dc0304fde877.1920x1080.jpg?t=1551151256,https://cdn.akamai.steamstatic.com/steam/apps/812580/ss_1527019ef0a7bf3e0ebee93a0c372bd4d401bba1.1920x1080.jpg?t=1551151256,https://cdn.akamai.steamstatic.com/steam/apps/812580/ss_53c9fc67150c7a22c7c550046577ad3a0cd46980.1920x1080.jpg?t=1551151256\n",
      "Movies: http://cdn.akamai.steamstatic.com/steam/apps/256733621/movie_max.mp4?t=1540828331,http://cdn.akamai.steamstatic.com/steam/apps/256723263/movie_max.mp4?t=1551149226,http://cdn.akamai.steamstatic.com/steam/apps/256731042/movie_max.mp4?t=1538537243\n",
      "---\n"
     ]
    }
   ],
   "source": [
    "# Importando a classe do módulo que irá transformar os dados em um dicionário.\n",
    "from data_dicts import CSVtoDict\n",
    "\n",
    "# Criando uma instância da classe CSVLoader, passando o caminho do arquivo CSV.\n",
    "csv_loader = CSVtoDict('steam_games.csv')\n",
    "\n",
    "# Chamando o método load_csv_to_dict para carregar o arquivo CSV como um dicionário.\n",
    "data_dicts = csv_loader.load_csv_to_dict()\n",
    "\n",
    "# Exibindo os dados transformados em um dicionário, correlacionando o cabeçalho às informações \n",
    "# das demais linhas. \n",
    "for data_dict in data_dicts[:2]: # Limitando a exibição por conta da extensão do arquivo.\n",
    "    for key, value in data_dict.items():\n",
    "        print(f\"{key}: {value}\") # Certificando que o código foi bem executado.\n",
    "    print('---') \n"
   ]
  },
  {
   "cell_type": "markdown",
   "id": "499a7231",
   "metadata": {},
   "source": [
    "## 🔎 Respondendo as Perguntas de Negócio após Manipulação dos Dados  "
   ]
  },
  {
   "cell_type": "markdown",
   "id": "b27329f0",
   "metadata": {},
   "source": [
    "### Pergunta 1 🎮\n",
    "Qual o percentual de jogos gratuitos e pagos na plataforma? "
   ]
  },
  {
   "cell_type": "code",
   "execution_count": 3,
   "id": "9a44c46b",
   "metadata": {},
   "outputs": [
    {
     "name": "stdout",
     "output_type": "stream",
     "text": [
      "Porcentagem de jogos gratuitos: 5.00%\n",
      "Porcentagem de jogos pagos: 95.00%\n"
     ]
    }
   ],
   "source": [
    "# Importando a classe do módulo que irá verificar o percentual. \n",
    "from percentage import GameStats\n",
    "\n",
    "game_stats = GameStats(data_dicts)\n",
    "game_stats.calculate_free_paid_percentage()"
   ]
  },
  {
   "cell_type": "markdown",
   "id": "7698c479",
   "metadata": {},
   "source": [
    "#### Resposta\n",
    "A análise dos dados da Steam revelou que 95% dos jogos são pagos, indicando uma preferência do consumidor por conteúdo de qualidade e a necessidade de estratégias de monetização eficazes. Para a Fun Corp., isto sugere uma oportunidade de entrar no mercado de jogos digitais focando em títulos pagos que ofereçam experiências únicas e envolventes, destacando-se pela qualidade e originalidade. Identificar nichos e preferências dos jogadores será crucial para o sucesso neste segmento competitivo.\n"
   ]
  },
  {
   "cell_type": "markdown",
   "id": "50bd8554",
   "metadata": {},
   "source": [
    "### Pergunta 2 🎮\n",
    "Qual o ano com o maior número de novos jogos? (Em caso de empate irá retornar uma lista com os anos empatados). "
   ]
  },
  {
   "cell_type": "code",
   "execution_count": 4,
   "id": "a1c0a4c6",
   "metadata": {},
   "outputs": [
    {
     "name": "stdout",
     "output_type": "stream",
     "text": [
      "Ano com o maior número de novos jogos: 2018\n"
     ]
    }
   ],
   "source": [
    "# Importando a classe do módulo para verificar registros de jogos por ano.\n",
    "from common_years import find_most_common_years\n",
    "\n",
    "most_common_years = find_most_common_years(data_dicts)\n",
    "\n",
    "# Verificar se há empate e, se houver, imprimi todos os anos com o maior número de lançamentos.\n",
    "if len(most_common_years) > 1:\n",
    "    print(\"Houve um empate entre os seguintes anos com o maior número de novos jogos:\")\n",
    "    for year in most_common_years:\n",
    "        print(year)\n",
    "else:\n",
    "    print(\"Ano com o maior número de novos jogos:\", most_common_years[0])"
   ]
  },
  {
   "cell_type": "markdown",
   "id": "fd42ee59",
   "metadata": {},
   "source": [
    "#### Resposta \n",
    "A análise dos dados da Steam destaca 2018 como o ano com maior lançamento de jogos, indicando uma época de alta inovação e demanda no mercado digital. Para a Fun Corp., compreender as condições de sucesso desse ano e a dinâmica de mercado sem empates em lançamentos nos outros anos é crucial para planejar estrategicamente sua entrada e posicionamento no mercado de jogos digitais."
   ]
  },
  {
   "cell_type": "markdown",
   "id": "5dfe1862",
   "metadata": {},
   "source": [
    "### Pergunta 3 🎮\n",
    "Quais são os TOP 3 gêneros de jogos mais comuns lançados nos anos com o maior número de novos jogos?"
   ]
  },
  {
   "cell_type": "code",
   "execution_count": 5,
   "id": "577a1eb0",
   "metadata": {},
   "outputs": [],
   "source": [
    "# O método Counter serva para percorrer os dados e contabilizá-los.\n",
    "from collections import Counter\n",
    "\n",
    "# Função para identificar os gêneros mais comuns nos anos com o maior número de novos jogos.\n",
    "def most_common_genres_in_top_years(data_dicts):\n",
    "    \"\"\"\n",
    "    >>> data_dicts = [{\"Release date\": \"Sep 13, 2018\", \"Genres\": \"Casual,Indie\"},]\n",
    "    >>> most_common_genres_in_top_years(data_dicts)\n",
    "    {2018: {'total_games': 1, 'top3_genres': [('Casual,Indie', 1)]}}\n",
    "    \"\"\"\n",
    "    \n",
    "# Identificar os anos com o maior número de novos jogos.\n",
    "    most_common_years = find_most_common_years(data_dicts)\n",
    "    \n",
    "# Dicionário para armazenar a frequência dos gêneros nos anos mais comuns.\n",
    "    genres_frequency = Counter()\n",
    "    \n",
    "# Dicionário para armazenar os top 3 gêneros mais comuns por ano.\n",
    "    top3_genres_by_year = {}\n",
    "    \n",
    "# Iterando sobre os dados para contar a frequência dos gêneros em cada ano.\n",
    "    for game in data_dicts:\n",
    "        release_year = int(game[\"Release date\"].split()[-1])\n",
    "        if release_year in most_common_years:\n",
    "            genres = game[\"Genres\"].split(\", \")  # Separar os gêneros por vírgula.\n",
    "            # Verificar se o campo de gênero está vazio.\n",
    "            if genres != ['']:  # Se não estiver vazio, atualizar a contagem de gêneros.\n",
    "                genres_frequency.update(genres)\n",
    "    \n",
    "# Adicionar os top 3 gêneros mais comuns por ano ao dicionário.\n",
    "    for year in most_common_years:\n",
    "        total_games_in_year = 0  # Inicializar o total de jogos no ano.\n",
    "        genres = []\n",
    "        for game in data_dicts:\n",
    "            release_year = int(game[\"Release date\"].split()[-1])\n",
    "            if release_year == year:\n",
    "                total_games_in_year += 1  # Atualizar o total de jogos no ano.\n",
    "                game_genres = game[\"Genres\"].split(\", \")\n",
    "                if game_genres != ['']:  # Validação para caso a variável esteja vazia.\n",
    "                    genres.extend(game_genres)\n",
    "        top3_genres_by_year[year] = {\"total_games\": total_games_in_year,\n",
    "                                     \"top3_genres\": Counter(genres).most_common(3)}\n",
    "    \n",
    "# Retornar os top 3 gêneros mais comuns nos anos com o maior número de novos jogos.\n",
    "    return top3_genres_by_year\n"
   ]
  },
  {
   "cell_type": "code",
   "execution_count": 6,
   "id": "4d5cd391",
   "metadata": {},
   "outputs": [
    {
     "name": "stdout",
     "output_type": "stream",
     "text": [
      "Top 3 gêneros mais comuns nos anos com o maior número de novos jogos\n",
      "Ano: 2018 - Total de jogos lançados: 5\n",
      "  1. Casual,Indie: 1 jogos\n",
      "  2. Action,Adventure,Indie: 1 jogos\n",
      "  3. Adventure,Indie: 1 jogos\n",
      "\n"
     ]
    }
   ],
   "source": [
    "# Chamando a função com os dados da variável 'data_dicts' onde foram convertidos em dicionário.\n",
    "top3_genres_by_year = most_common_genres_in_top_years(data_dicts)\n",
    "\n",
    "# Imprimindo os resultados.\n",
    "print(\"Top 3 gêneros mais comuns nos anos com o maior número de novos jogos\")\n",
    "for year, genres_info in top3_genres_by_year.items():\n",
    "    print(f\"Ano: {year} - Total de jogos lançados: {genres_info['total_games']}\")\n",
    "    for rank, (genre, frequency) in enumerate(genres_info['top3_genres'], start=1):\n",
    "        print(f\"  {rank}. {genre}: {frequency} jogos\")\n",
    "    print()"
   ]
  },
  {
   "cell_type": "markdown",
   "id": "2a01061d",
   "metadata": {},
   "source": [
    "#### Resposta \n",
    "Em nossa análise focalizada no ano de 2018, identificamos que este ano não só teve o maior número de lançamentos na Steam, mas também revelou preferências específicas de gênero. Com um total de 5 jogos lançados, os gêneros mais comuns foram:\n",
    "\n",
    "Casual, Indie: 1 jogo\n",
    "Action, Adventure, Indie: 1 jogo\n",
    "Adventure, Indie: 1 jogo\n",
    "Esta distribuição destaca a popularidade dos gêneros Indie, juntamente com uma combinação de Casual, Action e Adventure, refletindo a diversidade e o interesse variado dos consumidores. Para a Fun Corp., esses insights são valiosos para direcionar o desenvolvimento de futuros jogos digitais, alinhando-se às tendências de gênero mais procuradas."
   ]
  },
  {
   "cell_type": "markdown",
   "id": "f8bfb0a9",
   "metadata": {},
   "source": [
    "## Criando a Amostra para Teste 🎯\n",
    "Para realizar o teste foi separada uma amostra contendo dados aleatórios de 20 jogos, depois a amostra foi salva em um outro arquivo csv. "
   ]
  },
  {
   "cell_type": "code",
   "execution_count": 7,
   "id": "18c8a14a",
   "metadata": {},
   "outputs": [],
   "source": [
    "# Importando a biblioteca random para gerar os dados aleatoriamente. \n",
    "import random\n",
    "\n",
    "# O método seed irá garantir que sempre que for chamada, a amostra continua com os mesmos dados.\n",
    "random.seed(42)\n",
    "\n",
    "# Criando a amostra usando os dados do dicionário criado. \n",
    "sample_20games = random.sample(data_dicts, 20)\n",
    "\n",
    "#print(sample_20games[:1]) \n",
    "# Descomentar caso queira observar um item da amostra."
   ]
  },
  {
   "cell_type": "code",
   "execution_count": 8,
   "id": "8c801d0d",
   "metadata": {},
   "outputs": [
    {
     "name": "stdout",
     "output_type": "stream",
     "text": [
      "20\n"
     ]
    }
   ],
   "source": [
    "# Confirmando quantidade de elementos na amostra. \n",
    "sample= len(sample_20games)\n",
    "print(sample)"
   ]
  },
  {
   "cell_type": "markdown",
   "id": "043d7fb8",
   "metadata": {},
   "source": [
    "## Salvando a Amostra"
   ]
  },
  {
   "cell_type": "code",
   "execution_count": null,
   "id": "78425140",
   "metadata": {},
   "outputs": [],
   "source": [
    "#Salvando a amostra em um arquivo CSV\n",
    "import csv\n",
    "# Caminho do arquivo CSV onde você deseja salvar os dados\n",
    "arquivo_csv = 'amostra_de_20jogos.csv'\n",
    "\n",
    "# Obtendo os nomes das chaves (cabeçalho) dos dicionários\n",
    "headers = sample_20games[0].keys()\n",
    "\n",
    "# Escrevendo os dados no arquivo CSV\n",
    "with open(arquivo_csv, 'w', newline='', encoding='utf-8') as file:\n",
    "    writer = csv.DictWriter(file, fieldnames=headers)\n",
    "    \n",
    "    # Escreve o cabeçalho no arquivo\n",
    "    writer.writeheader()\n",
    "    \n",
    "    # Escreve os dados dos jogos no arquivo\n",
    "    for jogo in sample_20games:\n",
    "        writer.writerow(jogo)\n",
    "\n",
    "print(\"Amostra de 20 jogos salva com sucesso em\", arquivo_csv)"
   ]
  },
  {
   "cell_type": "markdown",
   "id": "8b9be3d6",
   "metadata": {},
   "source": [
    "## Manipulando a Amostra Teste 🎯"
   ]
  },
  {
   "cell_type": "code",
   "execution_count": 10,
   "id": "e37ed598",
   "metadata": {},
   "outputs": [
    {
     "name": "stdout",
     "output_type": "stream",
     "text": [
      "AppID: 675010\n",
      "Name: MudRunner\n",
      "Release date: Oct 30, 2017\n",
      "Estimated owners: 1000000 - 2000000\n",
      "Peak CCU: 559\n",
      "Required age: 0\n",
      "Price: 19.99\n",
      "DLC count: 4\n",
      "About the game: MudRunner is the ultimate off-road experience, putting the players in the driver seat and daring them to take charge of incredible all-terrain vehicles, venturing across extreme Siberian landscapes with only a map and compass as guides! Drive 19 powerful all-terrain vehicles, each with its own characteristics and attachable equipment. Complete your objectives and deliveries by enduring perilous conditions across wild, untamed landscapes in extreme conditions with dynamic day-night cycles. Explore an immersive sandbox environment, enhanced by improved graphics. Overcome muddy terrain, raging rivers and other obstacles that all realistically react to the weight and movement of your vehicle powered by the game's advanced physics engine. With your map, compass, winch, and your driving skills as allies, go solo or join up to three others in the coop multiplayer. Download mods created by the passionate community for truck-loads of content and an ever-evolving MudRunner experience. The ultimate off-road experience A wider selection of 19 incredible all-terrain vehicles Explore immense, untamed Siberian sandbox environments Overhauled graphics and advanced physics engine for extreme realism Complete perilous objectives and deliveries in extreme conditions Play solo or in multiplayer coop up to 4! Download mods for an ever-evolving experience\n",
      "Supported languages: ['English', 'French', 'Italian', 'German', 'Spanish - Spain', 'Polish', 'Portuguese - Brazil', 'Russian', 'Simplified Chinese']\n",
      "Full audio languages: []\n",
      "Reviews: \n",
      "Header image: https://cdn.akamai.steamstatic.com/steam/apps/675010/header.jpg?t=1650985411\n",
      "Website: https://www.focus-home.com/games/mudrunner-mobile\n",
      "Support url: http://www.focus-home.com/index.php?rub=support\n",
      "Support email: support@focus-home.com\n",
      "Windows: True\n",
      "Mac: False\n",
      "Linux: False\n",
      "Metacritic score: 0\n",
      "Metacritic url: \n",
      "User score: 0\n",
      "Positive: 22300\n",
      "Negative: 2526\n",
      "Score rank: \n",
      "Achievements: 62\n",
      "Recommendations: 20924\n",
      "Notes: \n",
      "Average playtime forever: 925\n",
      "Average playtime two weeks: 48\n",
      "Median playtime forever: 369\n",
      "Median playtime two weeks: 62\n",
      "Developers: Saber Interactive\n",
      "Publishers: Focus Entertainment\n",
      "Categories: Single-player,Multi-player,Co-op,Online Co-op,Cross-Platform Multiplayer,Steam Achievements,Full controller support,Steam Trading Cards,Steam Workshop,Steam Cloud\n",
      "Genres: Simulation\n",
      "Tags: Offroad,Simulation,Automobile Sim,Driving,Multiplayer,Realistic,Open World,Physics,Co-op,Online Co-Op,Mod,Moddable,Singleplayer,Racing,Sandbox,Exploration,Atmospheric,Adventure,First-Person,Third Person\n",
      "Screenshots: https://cdn.akamai.steamstatic.com/steam/apps/675010/ss_95b0985dd1aaa652c69fb0f2ae046177838c319a.1920x1080.jpg?t=1650985411,https://cdn.akamai.steamstatic.com/steam/apps/675010/ss_cdb67d33a04c4987f67e9c0d6991f7aee0225a88.1920x1080.jpg?t=1650985411,https://cdn.akamai.steamstatic.com/steam/apps/675010/ss_15b9797151b58d28c0d4e4251c164ee74b80d350.1920x1080.jpg?t=1650985411,https://cdn.akamai.steamstatic.com/steam/apps/675010/ss_b6de7ed6b8a7628985bd98a58ab1a6b4b50ccd4a.1920x1080.jpg?t=1650985411,https://cdn.akamai.steamstatic.com/steam/apps/675010/ss_24846b82bb21886dec0970e818a8155ddccd59e5.1920x1080.jpg?t=1650985411,https://cdn.akamai.steamstatic.com/steam/apps/675010/ss_06a211b2c74b30ff539339e9a87f69f2272c5dbb.1920x1080.jpg?t=1650985411,https://cdn.akamai.steamstatic.com/steam/apps/675010/ss_b7287b6ea0214ccd6ba4d99609d9285f44c0bbb7.1920x1080.jpg?t=1650985411,https://cdn.akamai.steamstatic.com/steam/apps/675010/ss_91e2f33ec02c937652e917c37fbc84619ba816ef.1920x1080.jpg?t=1650985411\n",
      "Movies: http://cdn.akamai.steamstatic.com/steam/apps/256699520/movie_max.mp4?t=1551796447,http://cdn.akamai.steamstatic.com/steam/apps/256744587/movie_max.mp4?t=1551796455,http://cdn.akamai.steamstatic.com/steam/apps/256744586/movie_max.mp4?t=1551796463\n",
      "---\n",
      "AppID: 1967950\n",
      "Name: Moi Mei: Hidden Objects\n",
      "Release date: May 18, 2022\n",
      "Estimated owners: 0 - 20000\n",
      "Peak CCU: 1\n",
      "Required age: 0\n",
      "Price: 9.99\n",
      "DLC count: 0\n",
      "About the game: The honeymoon in May went clearly not the way a self-respecting honeymoon should go. As soon as they arrived on the paradise island lost in the Caribbean, Mae and Jason immediately got into serious trouble — the local voodoo priestess Mama Agatha fell in love with Jason. The sorceress, realizing that she would not be able to recapture her husband from Mae so easily, resorted to the help of witchcraft and turned Jason into a natural nzambi! And now the Snake, in order to save his beloved, will have to master all the subtleties of witchcraft, enlist the support of cunning and greedy Voodoo spirits and challenge the insidious Mother Agatha! Do not pass by, we have here: a strong and determined heroine a whole family of spirits to be appeased magical atmosphere ritual drums\n",
      "Supported languages: ['English', 'Russian']\n",
      "Full audio languages: []\n",
      "Reviews: \n",
      "Header image: https://cdn.akamai.steamstatic.com/steam/apps/1967950/header.jpg?t=1652893256\n",
      "Website: https://www.facebook.com/DnovelGames/\n",
      "Support url: https://www.facebook.com/DnovelGames/\n",
      "Support email: press@dnovel.com\n",
      "Windows: True\n",
      "Mac: False\n",
      "Linux: False\n",
      "Metacritic score: 0\n",
      "Metacritic url: \n",
      "User score: 0\n",
      "Positive: 14\n",
      "Negative: 0\n",
      "Score rank: \n",
      "Achievements: 0\n",
      "Recommendations: 0\n",
      "Notes: Among the items to search for in the game there are knives, skulls and at least one zombie!\n",
      "Average playtime forever: 0\n",
      "Average playtime two weeks: 0\n",
      "Median playtime forever: 0\n",
      "Median playtime two weeks: 0\n",
      "Developers: Dnovel\n",
      "Publishers: Studio2760\n",
      "Categories: Single-player\n",
      "Genres: Adventure,Indie,Early Access\n",
      "Tags: Adventure,Point & Click,Visual Novel,Clicker,Hidden Object,Cute,Stylized,Colorful,Early Access,Atmospheric,Indie,Linear,Singleplayer,Music\n",
      "Screenshots: https://cdn.akamai.steamstatic.com/steam/apps/1967950/ss_0421daa32ec78487f1c2cdf6ca1e75ad06372636.1920x1080.jpg?t=1652893256,https://cdn.akamai.steamstatic.com/steam/apps/1967950/ss_9cd693c37b40e144eb577e56a95d92cebc2d5b52.1920x1080.jpg?t=1652893256,https://cdn.akamai.steamstatic.com/steam/apps/1967950/ss_0c427f98de4fe2eb0638f006aee3c864a46d8a12.1920x1080.jpg?t=1652893256,https://cdn.akamai.steamstatic.com/steam/apps/1967950/ss_37a315f003839fde6abe9ce203a331045bf912ef.1920x1080.jpg?t=1652893256,https://cdn.akamai.steamstatic.com/steam/apps/1967950/ss_e0428e1676320e5b1e55d0b9f7ec3ff71da944a0.1920x1080.jpg?t=1652893256,https://cdn.akamai.steamstatic.com/steam/apps/1967950/ss_b263c98f235220c0930fdf408efacadb30477ac2.1920x1080.jpg?t=1652893256,https://cdn.akamai.steamstatic.com/steam/apps/1967950/ss_def5d1bcc5e6955bad02fc94b55b86ab7c57b15d.1920x1080.jpg?t=1652893256\n",
      "Movies: http://cdn.akamai.steamstatic.com/steam/apps/256887051/movie_max.mp4?t=1652822884\n",
      "---\n"
     ]
    }
   ],
   "source": [
    "# Transformando em dicionário \n",
    "# Importando a classe do módulo que irá transformar os dados em um dicionário.\n",
    "from data_dicts import CSVtoDict\n",
    "\n",
    "# Criando uma instância da classe CSVLoader, passando o caminho do arquivo CSV.\n",
    "csv_loader = CSVtoDict('amostra_de_20jogos.csv')\n",
    "\n",
    "# Chamando o método load_csv_to_dict para carregar o arquivo CSV como um dicionário.\n",
    "amostra_dicts = csv_loader.load_csv_to_dict()\n",
    "\n",
    "# Exibindo os dados transformados em um dicionário, correlacionando o cabeçalho às informações \n",
    "# das demais linhas. \n",
    "for data_dict in amostra_dicts[:2]: # Limitando a exibição por conta da extensão do arquivo.\n",
    "    for key, value in data_dict.items():\n",
    "        print(f\"{key}: {value}\") # Certificando que o código foi bem executado.\n",
    "    print('---') \n"
   ]
  },
  {
   "cell_type": "markdown",
   "id": "e5c1bb83",
   "metadata": {},
   "source": [
    "### Respondendo as Perguntas de Negócio usando a biblioteca doctest para teste.\n",
    "\n",
    "Para o teste foram usados os códigos completos que estavam como módulos anteriormente, para visualização completa."
   ]
  },
  {
   "cell_type": "markdown",
   "id": "fc695fae",
   "metadata": {},
   "source": [
    "### Pergunta 1\n",
    "Qual o percentual de jogos gratuitos e pagos na plataforma?"
   ]
  },
  {
   "cell_type": "code",
   "execution_count": 11,
   "id": "4b760cc2",
   "metadata": {},
   "outputs": [
    {
     "name": "stdout",
     "output_type": "stream",
     "text": [
      "Porcentagem de jogos gratuitos: 5.00%\n",
      "Porcentagem de jogos pagos: 95.00%\n",
      "Trying:\n",
      "    game_data = [{'Name': 'Jogo 1', 'Price': '0.0'}]\n",
      "Expecting nothing\n",
      "ok\n",
      "Trying:\n",
      "    game_stats = GameStats(game_data)\n",
      "Expecting nothing\n",
      "ok\n",
      "Trying:\n",
      "    game_stats.calculate_free_paid_percentage()\n",
      "Expecting:\n",
      "    Porcentagem de jogos gratuitos: 100.00%\n",
      "    Porcentagem de jogos pagos: 0.00%\n",
      "ok\n",
      "Trying:\n",
      "    data_dicts = [{\"Release date\": \"Sep 13, 2018\", \"Genres\": \"Casual,Indie\"},]\n",
      "Expecting nothing\n",
      "ok\n",
      "Trying:\n",
      "    most_common_genres_in_top_years(data_dicts)\n",
      "Expecting:\n",
      "    {2018: {'total_games': 1, 'top3_genres': [('Casual,Indie', 1)]}}\n",
      "ok\n",
      "3 items had no tests:\n",
      "    __main__\n",
      "    __main__.GameStats\n",
      "    __main__.GameStats.__init__\n",
      "2 items passed all tests:\n",
      "   3 tests in __main__.GameStats.calculate_free_paid_percentage\n",
      "   2 tests in __main__.most_common_genres_in_top_years\n",
      "5 tests in 5 items.\n",
      "5 passed and 0 failed.\n",
      "Test passed.\n"
     ]
    }
   ],
   "source": [
    "class GameStats:\n",
    "    def __init__(self, game_data):\n",
    "        self.game_data = game_data\n",
    "\n",
    "    def calculate_free_paid_percentage(self):\n",
    "        \"\"\"\n",
    "        Bloco para o doctest\n",
    "        >>> game_data = [{'Name': 'Jogo 1', 'Price': '0.0'}]\n",
    "        \n",
    "        >>> game_stats = GameStats(game_data)\n",
    "        >>> game_stats.calculate_free_paid_percentage()\n",
    "        Porcentagem de jogos gratuitos: 100.00%\n",
    "        Porcentagem de jogos pagos: 0.00%\n",
    "        \"\"\"\n",
    "        \n",
    "        free_count = 0\n",
    "        paid_count = 0\n",
    "        \n",
    "        # Iteração pelos dicionários para contar jogos gratuitos e pagos.\n",
    "        for game in self.game_data:\n",
    "            price = game['Price'] # Variável onde se encontra a informação sobre preços.\n",
    "            if price == '0.0' or price == '[0.0]':  # Considerando variações na representação de preço gratuito.\n",
    "                free_count += 1\n",
    "            else:\n",
    "                paid_count += 1\n",
    "                \n",
    "        total_games = free_count + paid_count\n",
    "        if total_games > 0:  # Evitando divisão por zero.\n",
    "            free_percentage = (free_count / total_games) * 100 # Transformação em porcentagem. \n",
    "            paid_percentage = (paid_count / total_games) * 100\n",
    "            print(f\"Porcentagem de jogos gratuitos: {free_percentage:.2f}%\")\n",
    "            print(f\"Porcentagem de jogos pagos: {paid_percentage:.2f}%\")\n",
    "        else:\n",
    "            print(\"Não há jogos para analisar.\")\n",
    "            \n",
    "game_stats = GameStats(amostra_dicts)\n",
    "game_stats.calculate_free_paid_percentage()\n",
    "\n",
    "if __name__ == \"__main__\":\n",
    "    import doctest\n",
    "    doctest.testmod(verbose=True)"
   ]
  },
  {
   "cell_type": "markdown",
   "id": "e10c5a98",
   "metadata": {},
   "source": [
    "#### Resposta manual para comparação\n",
    "\n",
    "Preço //\tFrequência de Jogos comprados com esse preço\n",
    "\n",
    "9.99 //     4\n",
    "\n",
    "0.99 //    \t4\n",
    "\n",
    "19.99 //    2\n",
    "\n",
    "2.99 //    \t2\n",
    "\n",
    "4.99 //    \t2\n",
    "\n",
    "17.99 //   \t1\n",
    "\n",
    "0.00 //\t    1\n",
    "\n",
    "10.49 //    1\n",
    "\n",
    "6.99 //    \t1\n",
    "\n",
    "2.39 //    \t1\n",
    "\n",
    "3.99 //    \t1\n",
    "\n",
    "Total de jogos = 4 + 4 + 2 + 2 + 2 + 1 + 1 + 1 + 1 + 1 + 1 = 20 jogos\n",
    "Número de jogos gratuitos: 1\n",
    "Porcentagem de jogos gratuitos= (1/20)×100=5% \n",
    "Número de jogos pagos: 19\n",
    "Porcentagem de jogos pagos=(19/20)×100=95%\n",
    "\n",
    "Assim, 5% dos jogos são gratuitos e 95% são pagos\n",
    "\n"
   ]
  },
  {
   "cell_type": "markdown",
   "id": "ca1e2012",
   "metadata": {},
   "source": [
    "### Pergunta 2"
   ]
  },
  {
   "cell_type": "code",
   "execution_count": 12,
   "id": "3a210e27",
   "metadata": {},
   "outputs": [
    {
     "name": "stdout",
     "output_type": "stream",
     "text": [
      "Ano com o maior número de novos jogos: 2018\n",
      "Trying:\n",
      "    game_data = [{'Name': 'Jogo 1', 'Price': '0.0'}]\n",
      "Expecting nothing\n",
      "ok\n",
      "Trying:\n",
      "    game_stats = GameStats(game_data)\n",
      "Expecting nothing\n",
      "ok\n",
      "Trying:\n",
      "    game_stats.calculate_free_paid_percentage()\n",
      "Expecting:\n",
      "    Porcentagem de jogos gratuitos: 100.00%\n",
      "    Porcentagem de jogos pagos: 0.00%\n",
      "ok\n",
      "Trying:\n",
      "    data_dicts = [{'Name': 'Jogo 1', 'Release date': 'January 1, 2021'}]\n",
      "Expecting nothing\n",
      "ok\n",
      "Trying:\n",
      "    find_most_common_years(data_dicts)\n",
      "Expecting:\n",
      "    [2021]\n",
      "ok\n",
      "Trying:\n",
      "    data_dicts = [{\"Release date\": \"Sep 13, 2018\", \"Genres\": \"Casual,Indie\"},]\n",
      "Expecting nothing\n",
      "ok\n",
      "Trying:\n",
      "    most_common_genres_in_top_years(data_dicts)\n",
      "Expecting:\n",
      "    {2018: {'total_games': 1, 'top3_genres': [('Casual,Indie', 1)]}}\n",
      "ok\n",
      "3 items had no tests:\n",
      "    __main__\n",
      "    __main__.GameStats\n",
      "    __main__.GameStats.__init__\n",
      "3 items passed all tests:\n",
      "   3 tests in __main__.GameStats.calculate_free_paid_percentage\n",
      "   2 tests in __main__.find_most_common_years\n",
      "   2 tests in __main__.most_common_genres_in_top_years\n",
      "7 tests in 6 items.\n",
      "7 passed and 0 failed.\n",
      "Test passed.\n"
     ]
    }
   ],
   "source": [
    "from collections import Counter\n",
    "# A classe Counter do módulo collections serve para contar uma ocorrência em um conjunto de dados.\n",
    "\n",
    "def find_most_common_years(data_dicts):\n",
    "    \"\"\"\n",
    "    Bloco para o doctest\n",
    "    >>> data_dicts = [{'Name': 'Jogo 1', 'Release date': 'January 1, 2021'}]\n",
    "    >>> find_most_common_years(data_dicts)\n",
    "    [2021]\n",
    "    \"\"\"\n",
    "    # Extrai os anos de lançamento dos jogos e conta quantos jogos foram lançados em cada ano.\n",
    "    release_years = Counter(int(game[\"Release date\"].split()[-1]) for game in data_dicts)\n",
    "\n",
    "    # Encontra o ano (ou anos) com o maior número de lançamentos.\n",
    "    max_count = max(release_years.values())\n",
    "    most_common_years = [year for year, count in release_years.items() if count == max_count]\n",
    "\n",
    "    return most_common_years\n",
    "\n",
    "most_common_years = find_most_common_years(data_dicts)\n",
    "\n",
    "# Verificar se há empate e, se houver, imprimi todos os anos com o maior número de lançamentos.\n",
    "if len(most_common_years) > 1:\n",
    "    print(\"Houve um empate entre os seguintes anos com o maior número de novos jogos:\")\n",
    "    for year in most_common_years:\n",
    "        print(year)\n",
    "else:\n",
    "    print(\"Ano com o maior número de novos jogos:\", most_common_years[0])\n",
    "    \n",
    "if __name__ == \"__main__\":\n",
    "    import doctest\n",
    "    doctest.testmod(verbose=True)\n"
   ]
  },
  {
   "cell_type": "markdown",
   "id": "5de868d3",
   "metadata": {},
   "source": [
    "#### Resposta manual para comparação\n",
    "\n",
    "\n",
    "Data\t// Nº Novos Jogos por Data\n",
    "\n",
    "\n",
    "Oct 30, 2017   // \t1\n",
    "\n",
    "May 18, 2022   // \t1\n",
    "\n",
    "Oct 4, 2018   //  \t1\n",
    "\n",
    "Sep 13, 2018   // \t1\n",
    "\n",
    "Aug 30, 2017    //\t1\n",
    "\n",
    "Sep 27, 2021    //\t1\n",
    "\n",
    "Nov 26, 2018    //\t1\n",
    "\n",
    "Nov 13, 2022    //\t1\n",
    "\n",
    "Mar 31, 2023    //\t1\n",
    "\n",
    "Dec 8, 2020     //\t1\n",
    "\n",
    "Mar 13, 2018    //\t1\n",
    "\n",
    "Dec 1, 2020     //\t1\n",
    "\n",
    "Jan 15, 2022    //\t1\n",
    "\n",
    "Sep 17, 2018    //\t1\n",
    "\n",
    "Mar 31, 2017    //\t1\n",
    "\n",
    "Dec 10, 2012    //\t1\n",
    "\n",
    "Jan 11, 2022    //\t1\n",
    "\n",
    "Mar 28, 2023    //\t1\n",
    "\n",
    "Dec 13, 2019    //\t1\n",
    "\n",
    "Jun 17, 2020    //\t1\n",
    "\n",
    "O ano de 2018 contabilizando como o ano de maior lançamento de novos jogos: 5.\n"
   ]
  },
  {
   "cell_type": "markdown",
   "id": "17f947ad",
   "metadata": {},
   "source": [
    "##### Os testes demonstraram que o código está correto e a resposta são correspondentes ao esperado."
   ]
  },
  {
   "cell_type": "code",
   "execution_count": null,
   "id": "9afa8be3",
   "metadata": {},
   "outputs": [],
   "source": []
  }
 ],
 "metadata": {
  "kernelspec": {
   "display_name": "Python 3 (ipykernel)",
   "language": "python",
   "name": "python3"
  },
  "language_info": {
   "codemirror_mode": {
    "name": "ipython",
    "version": 3
   },
   "file_extension": ".py",
   "mimetype": "text/x-python",
   "name": "python",
   "nbconvert_exporter": "python",
   "pygments_lexer": "ipython3",
   "version": "3.11.0"
  }
 },
 "nbformat": 4,
 "nbformat_minor": 5
}
